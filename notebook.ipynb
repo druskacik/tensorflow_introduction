{
 "cells": [
  {
   "cell_type": "markdown",
   "metadata": {},
   "source": [
    "# Úvod do TensorFlow"
   ]
  },
  {
   "cell_type": "code",
   "execution_count": 1,
   "metadata": {},
   "outputs": [],
   "source": [
    "import tensorflow as tf\n",
    "from tensorflow.keras import layers, Sequential\n",
    "\n",
    "import numpy as np\n",
    "import pandas as pd\n",
    "\n",
    "import matplotlib.pyplot as plt"
   ]
  },
  {
   "cell_type": "markdown",
   "metadata": {},
   "source": [
    "## Priamková regresia pomocou TensorFlowu"
   ]
  },
  {
   "cell_type": "code",
   "execution_count": 2,
   "metadata": {},
   "outputs": [],
   "source": [
    "x = np.linspace(0, 5, 100)\n",
    "noise = np.random.rand(100) * 10\n",
    "y = np.array(3 * x**2 - 5*x + 10 + noise, dtype=np.float32)"
   ]
  },
  {
   "cell_type": "code",
   "execution_count": 3,
   "metadata": {},
   "outputs": [
    {
     "data": {
      "text/plain": [
       "[<matplotlib.lines.Line2D at 0x1ec1265a988>]"
      ]
     },
     "execution_count": 3,
     "metadata": {},
     "output_type": "execute_result"
    },
    {
     "data": {
      "image/png": "[encoded data removed]",
      "text/plain": [
       "<Figure size 576x432 with 1 Axes>"
      ]
     },
     "metadata": {
      "needs_background": "light"
     },
     "output_type": "display_data"
    }
   ],
   "source": [
    "plt.figure(figsize = (8, 6))\n",
    "plt.plot(x, y, 'bo')"
   ]
  },
  {
   "cell_type": "code",
   "execution_count": 12,
   "metadata": {},
   "outputs": [],
   "source": [
    "linear_regression_model = Sequential([\n",
    "    layers.Input(shape=(1)),\n",
    "    layers.Dense(1)\n",
    "])"
   ]
  },
  {
   "cell_type": "code",
   "execution_count": 13,
   "metadata": {},
   "outputs": [
    {
     "name": "stdout",
     "output_type": "stream",
     "text": [
      "Model: \"sequential_1\"\n",
      "_________________________________________________________________\n",
      "Layer (type)                 Output Shape              Param #   \n",
      "=================================================================\n",
      "dense_1 (Dense)              (None, 1)                 2         \n",
      "=================================================================\n",
      "Total params: 2\n",
      "Trainable params: 2\n",
      "Non-trainable params: 0\n",
      "_________________________________________________________________\n"
     ]
    }
   ],
   "source": [
    "linear_regression_model.summary()"
   ]
  },
  {
   "cell_type": "code",
   "execution_count": 6,
   "metadata": {},
   "outputs": [
    {
     "data": {
      "text/plain": [
       "<tf.Tensor: shape=(4, 1), dtype=float32, numpy=\n",
       "array([[0.91134083],\n",
       "       [1.8226817 ],\n",
       "       [2.7340226 ],\n",
       "       [3.6453633 ]], dtype=float32)>"
      ]
     },
     "execution_count": 6,
     "metadata": {},
     "output_type": "execute_result"
    }
   ],
   "source": [
    "linear_regression_model(np.array([1, 2, 3, 4]))"
   ]
  },
  {
   "cell_type": "code",
   "execution_count": 17,
   "metadata": {},
   "outputs": [],
   "source": [
    "linear_regression_model.compile(\n",
    "    optimizer = tf.optimizers.Adam(learning_rate = 0.1),\n",
    "    loss = tf.keras.losses.MeanSquaredError(),\n",
    "    metrics = [tf.keras.losses.MeanSquaredError()])"
   ]
  },
  {
   "cell_type": "code",
   "execution_count": 18,
   "metadata": {},
   "outputs": [
    {
     "name": "stdout",
     "output_type": "stream",
     "text": [
      "Epoch 1/100\n",
      "4/4 [==============================] - 0s 2ms/step - loss: 1108.6396 - mean_squared_error: 955.0455\n",
      "Epoch 2/100\n",
      "4/4 [==============================] - 0s 1ms/step - loss: 1015.0657 - mean_squared_error: 831.9661\n",
      "Epoch 3/100\n",
      "4/4 [==============================] - 0s 3ms/step - loss: 931.8480 - mean_squared_error: 802.6766\n",
      "Epoch 4/100\n",
      "4/4 [==============================] - 0s 2ms/step - loss: 844.8814 - mean_squared_error: 937.5743\n",
      "Epoch 5/100\n",
      "4/4 [==============================] - 0s 4ms/step - loss: 769.8813 - mean_squared_error: 688.0906\n",
      "Epoch 6/100\n",
      "4/4 [==============================] - 0s 2ms/step - loss: 693.6198 - mean_squared_error: 611.7320\n",
      "Epoch 7/100\n",
      "4/4 [==============================] - 0s 2ms/step - loss: 625.8154 - mean_squared_error: 565.1248\n",
      "Epoch 8/100\n",
      "4/4 [==============================] - 0s 2ms/step - loss: 561.9393 - mean_squared_error: 528.4963\n",
      "Epoch 9/100\n",
      "4/4 [==============================] - ETA: 0s - loss: 652.3837 - mean_squared_error: 652.38 - 0s 4ms/step - loss: 503.2779 - mean_squared_error: 463.2108\n",
      "Epoch 10/100\n",
      "4/4 [==============================] - 0s 3ms/step - loss: 447.1190 - mean_squared_error: 396.2848\n",
      "Epoch 11/100\n",
      "4/4 [==============================] - 0s 4ms/step - loss: 401.3924 - mean_squared_error: 341.0756\n",
      "Epoch 12/100\n",
      "4/4 [==============================] - ETA: 0s - loss: 260.1521 - mean_squared_error: 260.15 - 0s 2ms/step - loss: 354.6760 - mean_squared_error: 455.7600\n",
      "Epoch 13/100\n",
      "4/4 [==============================] - 0s 4ms/step - loss: 314.5665 - mean_squared_error: 281.5587\n",
      "Epoch 14/100\n",
      "4/4 [==============================] - 0s 4ms/step - loss: 276.1289 - mean_squared_error: 244.2831\n",
      "Epoch 15/100\n",
      "4/4 [==============================] - 0s 1ms/step - loss: 246.0896 - mean_squared_error: 201.1134\n",
      "Epoch 16/100\n",
      "4/4 [==============================] - 0s 2ms/step - loss: 217.5670 - mean_squared_error: 177.2514\n",
      "Epoch 17/100\n",
      "4/4 [==============================] - 0s 4ms/step - loss: 193.3390 - mean_squared_error: 218.6722\n",
      "Epoch 18/100\n",
      "4/4 [==============================] - 0s 4ms/step - loss: 172.5640 - mean_squared_error: 157.1470\n",
      "Epoch 19/100\n",
      "4/4 [==============================] - 0s 2ms/step - loss: 153.5904 - mean_squared_error: 130.7315\n",
      "Epoch 20/100\n",
      "4/4 [==============================] - 0s 3ms/step - loss: 137.2757 - mean_squared_error: 150.0574\n",
      "Epoch 21/100\n",
      "4/4 [==============================] - 0s 4ms/step - loss: 123.0606 - mean_squared_error: 117.2522\n",
      "Epoch 22/100\n",
      "4/4 [==============================] - 0s 2ms/step - loss: 110.4025 - mean_squared_error: 88.1660\n",
      "Epoch 23/100\n",
      "4/4 [==============================] - 0s 3ms/step - loss: 99.4612 - mean_squared_error: 105.5190\n",
      "Epoch 24/100\n",
      "4/4 [==============================] - 0s 2ms/step - loss: 90.8253 - mean_squared_error: 99.3239\n",
      "Epoch 25/100\n",
      "4/4 [==============================] - 0s 3ms/step - loss: 82.6062 - mean_squared_error: 93.0631\n",
      "Epoch 26/100\n",
      "4/4 [==============================] - 0s 5ms/step - loss: 75.8687 - mean_squared_error: 60.9416\n",
      "Epoch 27/100\n",
      "4/4 [==============================] - 0s 2ms/step - loss: 70.7857 - mean_squared_error: 57.6029\n",
      "Epoch 28/100\n",
      "4/4 [==============================] - 0s 6ms/step - loss: 66.3259 - mean_squared_error: 66.5434\n",
      "Epoch 29/100\n",
      "4/4 [==============================] - 0s 4ms/step - loss: 62.8656 - mean_squared_error: 57.8654\n",
      "Epoch 30/100\n",
      "4/4 [==============================] - 0s 2ms/step - loss: 60.1317 - mean_squared_error: 49.7009\n",
      "Epoch 31/100\n",
      "4/4 [==============================] - 0s 5ms/step - loss: 57.7433 - mean_squared_error: 55.1932\n",
      "Epoch 32/100\n",
      "4/4 [==============================] - 0s 2ms/step - loss: 55.7553 - mean_squared_error: 47.2247\n",
      "Epoch 33/100\n",
      "4/4 [==============================] - 0s 5ms/step - loss: 54.1577 - mean_squared_error: 55.7946\n",
      "Epoch 34/100\n",
      "4/4 [==============================] - 0s 6ms/step - loss: 52.8582 - mean_squared_error: 48.4719\n",
      "Epoch 35/100\n",
      "4/4 [==============================] - 0s 4ms/step - loss: 51.9831 - mean_squared_error: 45.8850\n",
      "Epoch 36/100\n",
      "4/4 [==============================] - 0s 5ms/step - loss: 51.0882 - mean_squared_error: 42.5927\n",
      "Epoch 37/100\n",
      "4/4 [==============================] - 0s 5ms/step - loss: 50.4706 - mean_squared_error: 45.9073\n",
      "Epoch 38/100\n",
      "4/4 [==============================] - 0s 3ms/step - loss: 49.8639 - mean_squared_error: 59.5589\n",
      "Epoch 39/100\n",
      "4/4 [==============================] - 0s 4ms/step - loss: 49.4000 - mean_squared_error: 45.5527\n",
      "Epoch 40/100\n",
      "4/4 [==============================] - 0s 3ms/step - loss: 48.9157 - mean_squared_error: 44.5051\n",
      "Epoch 41/100\n",
      "4/4 [==============================] - 0s 3ms/step - loss: 48.6918 - mean_squared_error: 43.1447\n",
      "Epoch 42/100\n",
      "4/4 [==============================] - 0s 4ms/step - loss: 48.4013 - mean_squared_error: 41.2651\n",
      "Epoch 43/100\n",
      "4/4 [==============================] - 0s 3ms/step - loss: 48.1423 - mean_squared_error: 47.6612\n",
      "Epoch 44/100\n",
      "4/4 [==============================] - 0s 5ms/step - loss: 47.9199 - mean_squared_error: 48.6562\n",
      "Epoch 45/100\n",
      "4/4 [==============================] - 0s 4ms/step - loss: 47.6502 - mean_squared_error: 43.6773\n",
      "Epoch 46/100\n",
      "4/4 [==============================] - 0s 3ms/step - loss: 47.4453 - mean_squared_error: 50.4319\n",
      "Epoch 47/100\n",
      "4/4 [==============================] - 0s 4ms/step - loss: 47.3232 - mean_squared_error: 42.1759\n",
      "Epoch 48/100\n",
      "4/4 [==============================] - 0s 4ms/step - loss: 47.0766 - mean_squared_error: 46.8468\n",
      "Epoch 49/100\n",
      "4/4 [==============================] - 0s 3ms/step - loss: 46.9532 - mean_squared_error: 48.2242\n",
      "Epoch 50/100\n",
      "4/4 [==============================] - 0s 2ms/step - loss: 46.8383 - mean_squared_error: 43.4610\n",
      "Epoch 51/100\n",
      "4/4 [==============================] - 0s 3ms/step - loss: 46.6922 - mean_squared_error: 53.4082\n",
      "Epoch 52/100\n",
      "4/4 [==============================] - 0s 5ms/step - loss: 46.5849 - mean_squared_error: 45.1771\n",
      "Epoch 53/100\n",
      "4/4 [==============================] - 0s 7ms/step - loss: 46.3746 - mean_squared_error: 42.1609\n",
      "Epoch 54/100\n",
      "4/4 [==============================] - 0s 5ms/step - loss: 46.2023 - mean_squared_error: 41.7412\n",
      "Epoch 55/100\n",
      "4/4 [==============================] - 0s 5ms/step - loss: 46.0875 - mean_squared_error: 41.5032\n",
      "Epoch 56/100\n",
      "4/4 [==============================] - 0s 3ms/step - loss: 45.9714 - mean_squared_error: 46.9314\n",
      "Epoch 57/100\n",
      "4/4 [==============================] - 0s 3ms/step - loss: 45.7929 - mean_squared_error: 60.5931\n",
      "Epoch 58/100\n",
      "4/4 [==============================] - 0s 4ms/step - loss: 45.7351 - mean_squared_error: 42.3135\n",
      "Epoch 59/100\n",
      "4/4 [==============================] - 0s 2ms/step - loss: 45.5516 - mean_squared_error: 44.5484\n",
      "Epoch 60/100\n",
      "4/4 [==============================] - 0s 4ms/step - loss: 45.4400 - mean_squared_error: 43.2223\n",
      "Epoch 61/100\n",
      "4/4 [==============================] - 0s 4ms/step - loss: 45.3369 - mean_squared_error: 42.7629\n",
      "Epoch 62/100\n",
      "4/4 [==============================] - 0s 6ms/step - loss: 45.2639 - mean_squared_error: 42.9146\n",
      "Epoch 63/100\n",
      "4/4 [==============================] - 0s 3ms/step - loss: 45.1792 - mean_squared_error: 47.6255\n",
      "Epoch 64/100\n",
      "4/4 [==============================] - 0s 3ms/step - loss: 45.1386 - mean_squared_error: 43.9315\n",
      "Epoch 65/100\n",
      "4/4 [==============================] - 0s 8ms/step - loss: 45.0556 - mean_squared_error: 48.4869\n",
      "Epoch 66/100\n",
      "4/4 [==============================] - 0s 4ms/step - loss: 45.0028 - mean_squared_error: 39.5305\n",
      "Epoch 67/100\n",
      "4/4 [==============================] - 0s 5ms/step - loss: 44.9212 - mean_squared_error: 41.3197\n",
      "Epoch 68/100\n",
      "4/4 [==============================] - 0s 4ms/step - loss: 44.8372 - mean_squared_error: 46.6601\n",
      "Epoch 69/100\n",
      "4/4 [==============================] - 0s 2ms/step - loss: 44.7256 - mean_squared_error: 51.4568\n",
      "Epoch 70/100\n",
      "4/4 [==============================] - 0s 4ms/step - loss: 44.5518 - mean_squared_error: 53.6065\n",
      "Epoch 71/100\n",
      "4/4 [==============================] - 0s 4ms/step - loss: 44.4721 - mean_squared_error: 45.5314\n",
      "Epoch 72/100\n",
      "4/4 [==============================] - 0s 2ms/step - loss: 44.3238 - mean_squared_error: 41.1957\n",
      "Epoch 73/100\n",
      "4/4 [==============================] - 0s 3ms/step - loss: 44.2057 - mean_squared_error: 46.4503\n",
      "Epoch 74/100\n"
     ]
    },
    {
     "name": "stdout",
     "output_type": "stream",
     "text": [
      "4/4 [==============================] - 0s 2ms/step - loss: 44.0980 - mean_squared_error: 52.7995\n",
      "Epoch 75/100\n",
      "4/4 [==============================] - 0s 2ms/step - loss: 44.0099 - mean_squared_error: 38.2406\n",
      "Epoch 76/100\n",
      "4/4 [==============================] - 0s 2ms/step - loss: 43.8812 - mean_squared_error: 38.0149\n",
      "Epoch 77/100\n",
      "4/4 [==============================] - 0s 2ms/step - loss: 43.7555 - mean_squared_error: 42.3995\n",
      "Epoch 78/100\n",
      "4/4 [==============================] - 0s 2ms/step - loss: 43.6446 - mean_squared_error: 36.5250\n",
      "Epoch 79/100\n",
      "4/4 [==============================] - 0s 2ms/step - loss: 43.5643 - mean_squared_error: 45.7189\n",
      "Epoch 80/100\n",
      "4/4 [==============================] - 0s 2ms/step - loss: 43.4888 - mean_squared_error: 36.0180\n",
      "Epoch 81/100\n",
      "4/4 [==============================] - 0s 2ms/step - loss: 43.4052 - mean_squared_error: 56.2199\n",
      "Epoch 82/100\n",
      "4/4 [==============================] - 0s 4ms/step - loss: 43.3492 - mean_squared_error: 41.0773\n",
      "Epoch 83/100\n",
      "4/4 [==============================] - 0s 6ms/step - loss: 43.2275 - mean_squared_error: 36.5783\n",
      "Epoch 84/100\n",
      "4/4 [==============================] - 0s 3ms/step - loss: 43.1937 - mean_squared_error: 42.4376\n",
      "Epoch 85/100\n",
      "4/4 [==============================] - 0s 2ms/step - loss: 43.1505 - mean_squared_error: 35.8263\n",
      "Epoch 86/100\n",
      "4/4 [==============================] - 0s 2ms/step - loss: 43.0603 - mean_squared_error: 44.1910\n",
      "Epoch 87/100\n",
      "4/4 [==============================] - 0s 2ms/step - loss: 42.9834 - mean_squared_error: 48.3142\n",
      "Epoch 88/100\n",
      "4/4 [==============================] - 0s 2ms/step - loss: 42.9391 - mean_squared_error: 42.6203\n",
      "Epoch 89/100\n",
      "4/4 [==============================] - 0s 2ms/step - loss: 42.8516 - mean_squared_error: 43.9905\n",
      "Epoch 90/100\n",
      "4/4 [==============================] - 0s 2ms/step - loss: 42.7362 - mean_squared_error: 39.2236\n",
      "Epoch 91/100\n",
      "4/4 [==============================] - 0s 2ms/step - loss: 42.6300 - mean_squared_error: 39.4792\n",
      "Epoch 92/100\n",
      "4/4 [==============================] - 0s 1ms/step - loss: 42.4868 - mean_squared_error: 44.2808\n",
      "Epoch 93/100\n",
      "4/4 [==============================] - 0s 1ms/step - loss: 42.5405 - mean_squared_error: 46.9509\n",
      "Epoch 94/100\n",
      "4/4 [==============================] - 0s 2ms/step - loss: 42.3588 - mean_squared_error: 41.5933\n",
      "Epoch 95/100\n",
      "4/4 [==============================] - 0s 2ms/step - loss: 42.3466 - mean_squared_error: 44.4709\n",
      "Epoch 96/100\n",
      "4/4 [==============================] - 0s 2ms/step - loss: 42.2061 - mean_squared_error: 48.3519\n",
      "Epoch 97/100\n",
      "4/4 [==============================] - 0s 3ms/step - loss: 42.1272 - mean_squared_error: 37.9923\n",
      "Epoch 98/100\n",
      "4/4 [==============================] - 0s 2ms/step - loss: 42.0461 - mean_squared_error: 40.5951\n",
      "Epoch 99/100\n",
      "4/4 [==============================] - 0s 2ms/step - loss: 41.9734 - mean_squared_error: 43.7543\n",
      "Epoch 100/100\n",
      "4/4 [==============================] - 0s 2ms/step - loss: 41.9987 - mean_squared_error: 53.3465\n"
     ]
    },
    {
     "data": {
      "text/plain": [
       "<tensorflow.python.keras.callbacks.History at 0x1ec14c5d6c8>"
      ]
     },
     "execution_count": 18,
     "metadata": {},
     "output_type": "execute_result"
    }
   ],
   "source": [
    "linear_regression_model.fit(x, y, epochs = 100)"
   ]
  },
  {
   "cell_type": "code",
   "execution_count": 19,
   "metadata": {},
   "outputs": [],
   "source": [
    "predictions = linear_regression_model.predict(x)"
   ]
  },
  {
   "cell_type": "code",
   "execution_count": 20,
   "metadata": {},
   "outputs": [
    {
     "data": {
      "text/plain": [
       "[<matplotlib.lines.Line2D at 0x1ec15fb07c8>]"
      ]
     },
     "execution_count": 20,
     "metadata": {},
     "output_type": "execute_result"
    },
    {
     "data": {
      "image/png": "[encoded data removed]",
      "text/plain": [
       "<Figure size 576x432 with 1 Axes>"
      ]
     },
     "metadata": {
      "needs_background": "light"
     },
     "output_type": "display_data"
    }
   ],
   "source": [
    "plt.figure(figsize = (8, 6))\n",
    "plt.plot(x, predictions, 'red')\n",
    "plt.plot(x, y, 'bo')"
   ]
  },
  {
   "cell_type": "code",
   "execution_count": 21,
   "metadata": {},
   "outputs": [],
   "source": [
    "def least_squares_method(x, y):\n",
    "    \n",
    "    F = np.array([np.ones(100), x])\n",
    "    F = np.transpose(F)\n",
    "    \n",
    "    theta = np.linalg.multi_dot([np.linalg.pinv(np.transpose(F).dot(F)), np.transpose(F), y])\n",
    "    return theta"
   ]
  },
  {
   "cell_type": "code",
   "execution_count": 22,
   "metadata": {},
   "outputs": [],
   "source": [
    "theta = least_squares_method(x, y)"
   ]
  },
  {
   "cell_type": "code",
   "execution_count": 23,
   "metadata": {},
   "outputs": [
    {
     "data": {
      "text/plain": [
       "[<matplotlib.lines.Line2D at 0x1ec16019208>]"
      ]
     },
     "execution_count": 23,
     "metadata": {},
     "output_type": "execute_result"
    },
    {
     "data": {
      "image/png": "[encoded data removed]",
      "text/plain": [
       "<Figure size 1296x720 with 1 Axes>"
      ]
     },
     "metadata": {
      "needs_background": "light"
     },
     "output_type": "display_data"
    }
   ],
   "source": [
    "ls_predictions = theta[0] + theta[1]*x\n",
    "plt.figure(figsize=(18, 10))\n",
    "plt.plot(x, predictions, 'red')\n",
    "plt.plot(x, ls_predictions, 'black')\n",
    "plt.plot(x, y, 'bo')"
   ]
  },
  {
   "cell_type": "code",
   "execution_count": 24,
   "metadata": {},
   "outputs": [
    {
     "data": {
      "text/plain": [
       "[<tf.Variable 'dense_1/kernel:0' shape=(1, 1) dtype=float32, numpy=array([[8.9304905]], dtype=float32)>,\n",
       " <tf.Variable 'dense_1/bias:0' shape=(1,) dtype=float32, numpy=array([5.916349], dtype=float32)>]"
      ]
     },
     "execution_count": 24,
     "metadata": {},
     "output_type": "execute_result"
    }
   ],
   "source": [
    "linear_regression_model.trainable_weights"
   ]
  },
  {
   "cell_type": "code",
   "execution_count": 25,
   "metadata": {},
   "outputs": [
    {
     "data": {
      "text/plain": [
       "array([ 2.34457546, 10.17447555])"
      ]
     },
     "execution_count": 25,
     "metadata": {},
     "output_type": "execute_result"
    }
   ],
   "source": [
    "theta"
   ]
  },
  {
   "cell_type": "markdown",
   "metadata": {},
   "source": [
    "## Kvadratická regresia"
   ]
  },
  {
   "cell_type": "code",
   "execution_count": 26,
   "metadata": {},
   "outputs": [],
   "source": [
    "model = Sequential([\n",
    "    layers.Input(shape=(2)),\n",
    "    layers.Dense(1)\n",
    "])"
   ]
  },
  {
   "cell_type": "code",
   "execution_count": 27,
   "metadata": {},
   "outputs": [],
   "source": [
    "model.compile(\n",
    "    optimizer = tf.optimizers.Adam(learning_rate = 0.1),\n",
    "    loss = tf.keras.losses.MeanSquaredError(),\n",
    "    metrics = [tf.keras.losses.MeanSquaredError()])"
   ]
  },
  {
   "cell_type": "code",
   "execution_count": 28,
   "metadata": {},
   "outputs": [
    {
     "name": "stdout",
     "output_type": "stream",
     "text": [
      "Model: \"sequential_2\"\n",
      "_________________________________________________________________\n",
      "Layer (type)                 Output Shape              Param #   \n",
      "=================================================================\n",
      "dense_2 (Dense)              (None, 1)                 3         \n",
      "=================================================================\n",
      "Total params: 3\n",
      "Trainable params: 3\n",
      "Non-trainable params: 0\n",
      "_________________________________________________________________\n"
     ]
    }
   ],
   "source": [
    "model.summary()"
   ]
  },
  {
   "cell_type": "code",
   "execution_count": 29,
   "metadata": {},
   "outputs": [],
   "source": [
    "input_x = np.array([x, x**2]).transpose()"
   ]
  },
  {
   "cell_type": "code",
   "execution_count": 30,
   "metadata": {},
   "outputs": [
    {
     "name": "stdout",
     "output_type": "stream",
     "text": [
      "Epoch 1/100\n",
      "4/4 [==============================] - 0s 2ms/step - loss: 515.8042 - mean_squared_error: 438.5710\n",
      "Epoch 2/100\n",
      "4/4 [==============================] - 0s 2ms/step - loss: 302.1046 - mean_squared_error: 270.0703\n",
      "Epoch 3/100\n",
      "4/4 [==============================] - 0s 2ms/step - loss: 167.1927 - mean_squared_error: 155.1043\n",
      "Epoch 4/100\n",
      "4/4 [==============================] - 0s 2ms/step - loss: 80.1605 - mean_squared_error: 73.7568\n",
      "Epoch 5/100\n",
      "4/4 [==============================] - 0s 4ms/step - loss: 47.2187 - mean_squared_error: 39.8518\n",
      "Epoch 6/100\n",
      "4/4 [==============================] - 0s 2ms/step - loss: 42.0418 - mean_squared_error: 35.0671\n",
      "Epoch 7/100\n",
      "4/4 [==============================] - 0s 6ms/step - loss: 49.3221 - mean_squared_error: 56.2952\n",
      "Epoch 8/100\n",
      "4/4 [==============================] - 0s 4ms/step - loss: 55.3270 - mean_squared_error: 54.7637\n",
      "Epoch 9/100\n",
      "4/4 [==============================] - 0s 3ms/step - loss: 52.6129 - mean_squared_error: 67.7581\n",
      "Epoch 10/100\n",
      "4/4 [==============================] - 0s 3ms/step - loss: 44.6364 - mean_squared_error: 40.1951\n",
      "Epoch 11/100\n",
      "4/4 [==============================] - 0s 2ms/step - loss: 37.4449 - mean_squared_error: 40.1937\n",
      "Epoch 12/100\n",
      "4/4 [==============================] - 0s 4ms/step - loss: 34.6802 - mean_squared_error: 36.5007\n",
      "Epoch 13/100\n",
      "4/4 [==============================] - 0s 3ms/step - loss: 34.0535 - mean_squared_error: 27.2909\n",
      "Epoch 14/100\n",
      "4/4 [==============================] - 0s 4ms/step - loss: 33.3971 - mean_squared_error: 28.2715\n",
      "Epoch 15/100\n",
      "4/4 [==============================] - 0s 3ms/step - loss: 32.1805 - mean_squared_error: 38.7336\n",
      "Epoch 16/100\n",
      "4/4 [==============================] - 0s 3ms/step - loss: 30.8528 - mean_squared_error: 31.2819\n",
      "Epoch 17/100\n",
      "4/4 [==============================] - 0s 4ms/step - loss: 29.5872 - mean_squared_error: 34.4740\n",
      "Epoch 18/100\n",
      "4/4 [==============================] - 0s 5ms/step - loss: 28.6773 - mean_squared_error: 34.6072\n",
      "Epoch 19/100\n",
      "4/4 [==============================] - 0s 3ms/step - loss: 28.0301 - mean_squared_error: 29.0152\n",
      "Epoch 20/100\n",
      "4/4 [==============================] - 0s 2ms/step - loss: 27.0726 - mean_squared_error: 24.4576\n",
      "Epoch 21/100\n",
      "4/4 [==============================] - 0s 3ms/step - loss: 26.1241 - mean_squared_error: 24.3957\n",
      "Epoch 22/100\n",
      "4/4 [==============================] - 0s 3ms/step - loss: 25.1704 - mean_squared_error: 28.6526\n",
      "Epoch 23/100\n",
      "4/4 [==============================] - 0s 4ms/step - loss: 24.2350 - mean_squared_error: 20.4764\n",
      "Epoch 24/100\n",
      "4/4 [==============================] - 0s 2ms/step - loss: 23.4439 - mean_squared_error: 19.9407\n",
      "Epoch 25/100\n",
      "4/4 [==============================] - 0s 4ms/step - loss: 22.7405 - mean_squared_error: 26.9837\n",
      "Epoch 26/100\n",
      "4/4 [==============================] - 0s 3ms/step - loss: 22.2279 - mean_squared_error: 18.2259\n",
      "Epoch 27/100\n",
      "4/4 [==============================] - 0s 6ms/step - loss: 21.5503 - mean_squared_error: 19.0178\n",
      "Epoch 28/100\n",
      "4/4 [==============================] - 0s 3ms/step - loss: 20.9297 - mean_squared_error: 24.4496\n",
      "Epoch 29/100\n",
      "4/4 [==============================] - 0s 4ms/step - loss: 20.3649 - mean_squared_error: 21.0363\n",
      "Epoch 30/100\n",
      "4/4 [==============================] - 0s 3ms/step - loss: 19.7968 - mean_squared_error: 22.8003\n",
      "Epoch 31/100\n",
      "4/4 [==============================] - 0s 3ms/step - loss: 19.2988 - mean_squared_error: 17.5532\n",
      "Epoch 32/100\n",
      "4/4 [==============================] - 0s 3ms/step - loss: 18.8544 - mean_squared_error: 21.0780\n",
      "Epoch 33/100\n",
      "4/4 [==============================] - ETA: 0s - loss: 21.5921 - mean_squared_error: 21.59 - 0s 3ms/step - loss: 18.5211 - mean_squared_error: 17.8699\n",
      "Epoch 34/100\n",
      "4/4 [==============================] - 0s 2ms/step - loss: 18.0018 - mean_squared_error: 15.7262\n",
      "Epoch 35/100\n",
      "4/4 [==============================] - 0s 5ms/step - loss: 17.4977 - mean_squared_error: 18.2181\n",
      "Epoch 36/100\n",
      "4/4 [==============================] - 0s 5ms/step - loss: 17.0380 - mean_squared_error: 27.6151\n",
      "Epoch 37/100\n",
      "4/4 [==============================] - 0s 2ms/step - loss: 16.6709 - mean_squared_error: 14.4403\n",
      "Epoch 38/100\n",
      "4/4 [==============================] - 0s 5ms/step - loss: 16.3510 - mean_squared_error: 17.9254\n",
      "Epoch 39/100\n",
      "4/4 [==============================] - 0s 4ms/step - loss: 16.0821 - mean_squared_error: 13.6194\n",
      "Epoch 40/100\n",
      "4/4 [==============================] - 0s 3ms/step - loss: 15.7192 - mean_squared_error: 19.7173\n",
      "Epoch 41/100\n",
      "4/4 [==============================] - 0s 2ms/step - loss: 15.4184 - mean_squared_error: 18.1987\n",
      "Epoch 42/100\n",
      "4/4 [==============================] - 0s 3ms/step - loss: 15.1119 - mean_squared_error: 15.3327\n",
      "Epoch 43/100\n",
      "4/4 [==============================] - 0s 5ms/step - loss: 14.8228 - mean_squared_error: 15.9157\n",
      "Epoch 44/100\n",
      "4/4 [==============================] - 0s 3ms/step - loss: 14.6899 - mean_squared_error: 14.2552\n",
      "Epoch 45/100\n",
      "4/4 [==============================] - 0s 3ms/step - loss: 14.6683 - mean_squared_error: 13.0691\n",
      "Epoch 46/100\n",
      "4/4 [==============================] - 0s 3ms/step - loss: 14.7190 - mean_squared_error: 12.6756\n",
      "Epoch 47/100\n",
      "4/4 [==============================] - 0s 4ms/step - loss: 14.4291 - mean_squared_error: 14.0485\n",
      "Epoch 48/100\n",
      "4/4 [==============================] - 0s 3ms/step - loss: 14.0075 - mean_squared_error: 14.5902\n",
      "Epoch 49/100\n",
      "4/4 [==============================] - 0s 3ms/step - loss: 13.8586 - mean_squared_error: 12.4065\n",
      "Epoch 50/100\n",
      "4/4 [==============================] - 0s 2ms/step - loss: 13.8335 - mean_squared_error: 12.4640\n",
      "Epoch 51/100\n",
      "4/4 [==============================] - 0s 2ms/step - loss: 13.7455 - mean_squared_error: 14.5013\n",
      "Epoch 52/100\n",
      "4/4 [==============================] - 0s 4ms/step - loss: 13.5114 - mean_squared_error: 13.5577\n",
      "Epoch 53/100\n",
      "4/4 [==============================] - 0s 4ms/step - loss: 13.2949 - mean_squared_error: 13.6544\n",
      "Epoch 54/100\n",
      "4/4 [==============================] - 0s 5ms/step - loss: 13.1741 - mean_squared_error: 12.4905\n",
      "Epoch 55/100\n",
      "4/4 [==============================] - 0s 4ms/step - loss: 13.1048 - mean_squared_error: 13.3144\n",
      "Epoch 56/100\n",
      "4/4 [==============================] - 0s 2ms/step - loss: 12.9919 - mean_squared_error: 12.0060\n",
      "Epoch 57/100\n",
      "4/4 [==============================] - 0s 4ms/step - loss: 12.8507 - mean_squared_error: 12.5575\n",
      "Epoch 58/100\n",
      "4/4 [==============================] - 0s 5ms/step - loss: 12.8124 - mean_squared_error: 12.4158\n",
      "Epoch 59/100\n",
      "4/4 [==============================] - 0s 2ms/step - loss: 12.7730 - mean_squared_error: 12.6778\n",
      "Epoch 60/100\n",
      "4/4 [==============================] - 0s 4ms/step - loss: 12.5993 - mean_squared_error: 14.3185\n",
      "Epoch 61/100\n",
      "4/4 [==============================] - 0s 4ms/step - loss: 12.6326 - mean_squared_error: 13.1249\n",
      "Epoch 62/100\n",
      "4/4 [==============================] - 0s 2ms/step - loss: 12.6251 - mean_squared_error: 12.7155\n",
      "Epoch 63/100\n",
      "4/4 [==============================] - 0s 3ms/step - loss: 12.5483 - mean_squared_error: 13.2659\n",
      "Epoch 64/100\n",
      "4/4 [==============================] - 0s 4ms/step - loss: 12.4260 - mean_squared_error: 11.3144\n",
      "Epoch 65/100\n",
      "4/4 [==============================] - 0s 2ms/step - loss: 12.4103 - mean_squared_error: 14.3865\n",
      "Epoch 66/100\n",
      "4/4 [==============================] - 0s 4ms/step - loss: 12.2935 - mean_squared_error: 10.4160\n",
      "Epoch 67/100\n",
      "4/4 [==============================] - 0s 2ms/step - loss: 12.2771 - mean_squared_error: 12.8324\n",
      "Epoch 68/100\n",
      "4/4 [==============================] - 0s 4ms/step - loss: 12.2309 - mean_squared_error: 16.9064\n",
      "Epoch 69/100\n",
      "4/4 [==============================] - 0s 5ms/step - loss: 12.1904 - mean_squared_error: 11.9223\n",
      "Epoch 70/100\n",
      "4/4 [==============================] - 0s 4ms/step - loss: 12.4230 - mean_squared_error: 10.9451\n",
      "Epoch 71/100\n",
      "4/4 [==============================] - 0s 4ms/step - loss: 12.6557 - mean_squared_error: 14.4176\n",
      "Epoch 72/100\n",
      "4/4 [==============================] - 0s 4ms/step - loss: 12.2643 - mean_squared_error: 12.8276\n",
      "Epoch 73/100\n",
      "4/4 [==============================] - 0s 2ms/step - loss: 12.0394 - mean_squared_error: 13.9174\n",
      "Epoch 74/100\n",
      "4/4 [==============================] - 0s 4ms/step - loss: 12.0692 - mean_squared_error: 10.4201\n"
     ]
    },
    {
     "name": "stdout",
     "output_type": "stream",
     "text": [
      "Epoch 75/100\n",
      "4/4 [==============================] - ETA: 0s - loss: 16.1416 - mean_squared_error: 16.14 - 0s 2ms/step - loss: 11.9302 - mean_squared_error: 13.2501\n",
      "Epoch 76/100\n",
      "4/4 [==============================] - 0s 2ms/step - loss: 11.8645 - mean_squared_error: 12.0925\n",
      "Epoch 77/100\n",
      "4/4 [==============================] - 0s 3ms/step - loss: 11.9262 - mean_squared_error: 10.5688\n",
      "Epoch 78/100\n",
      "4/4 [==============================] - 0s 4ms/step - loss: 12.0071 - mean_squared_error: 12.5972\n",
      "Epoch 79/100\n",
      "4/4 [==============================] - 0s 2ms/step - loss: 11.9191 - mean_squared_error: 10.8827\n",
      "Epoch 80/100\n",
      "4/4 [==============================] - 0s 5ms/step - loss: 11.6878 - mean_squared_error: 11.2673\n",
      "Epoch 81/100\n",
      "4/4 [==============================] - 0s 2ms/step - loss: 11.7061 - mean_squared_error: 12.5041\n",
      "Epoch 82/100\n",
      "4/4 [==============================] - 0s 2ms/step - loss: 11.7153 - mean_squared_error: 10.5909\n",
      "Epoch 83/100\n",
      "4/4 [==============================] - 0s 3ms/step - loss: 11.6187 - mean_squared_error: 9.5323\n",
      "Epoch 84/100\n",
      "4/4 [==============================] - 0s 2ms/step - loss: 11.6652 - mean_squared_error: 11.0886\n",
      "Epoch 85/100\n",
      "4/4 [==============================] - 0s 2ms/step - loss: 11.6995 - mean_squared_error: 13.9081\n",
      "Epoch 86/100\n",
      "4/4 [==============================] - 0s 3ms/step - loss: 11.8089 - mean_squared_error: 14.3179\n",
      "Epoch 87/100\n",
      "4/4 [==============================] - 0s 3ms/step - loss: 11.7393 - mean_squared_error: 10.4683\n",
      "Epoch 88/100\n",
      "4/4 [==============================] - 0s 2ms/step - loss: 11.5434 - mean_squared_error: 10.8918\n",
      "Epoch 89/100\n",
      "4/4 [==============================] - 0s 2ms/step - loss: 11.4699 - mean_squared_error: 13.2168\n",
      "Epoch 90/100\n",
      "4/4 [==============================] - 0s 2ms/step - loss: 11.4205 - mean_squared_error: 13.1519\n",
      "Epoch 91/100\n",
      "4/4 [==============================] - 0s 3ms/step - loss: 11.3814 - mean_squared_error: 10.2063\n",
      "Epoch 92/100\n",
      "4/4 [==============================] - 0s 2ms/step - loss: 11.3964 - mean_squared_error: 12.6196\n",
      "Epoch 93/100\n",
      "4/4 [==============================] - 0s 2ms/step - loss: 11.2931 - mean_squared_error: 10.9944\n",
      "Epoch 94/100\n",
      "4/4 [==============================] - 0s 2ms/step - loss: 11.4445 - mean_squared_error: 9.6167\n",
      "Epoch 95/100\n",
      "4/4 [==============================] - 0s 2ms/step - loss: 11.4236 - mean_squared_error: 11.8083\n",
      "Epoch 96/100\n",
      "4/4 [==============================] - 0s 2ms/step - loss: 11.3081 - mean_squared_error: 11.3973\n",
      "Epoch 97/100\n",
      "4/4 [==============================] - 0s 2ms/step - loss: 11.2328 - mean_squared_error: 12.6793\n",
      "Epoch 98/100\n",
      "4/4 [==============================] - 0s 2ms/step - loss: 11.2808 - mean_squared_error: 9.8272\n",
      "Epoch 99/100\n",
      "4/4 [==============================] - 0s 2ms/step - loss: 11.3714 - mean_squared_error: 10.5928\n",
      "Epoch 100/100\n",
      "4/4 [==============================] - 0s 2ms/step - loss: 11.2057 - mean_squared_error: 11.3581\n"
     ]
    },
    {
     "data": {
      "text/plain": [
       "<tensorflow.python.keras.callbacks.History at 0x1ec1608e908>"
      ]
     },
     "execution_count": 30,
     "metadata": {},
     "output_type": "execute_result"
    }
   ],
   "source": [
    "model.fit(input_x, y, epochs = 100)"
   ]
  },
  {
   "cell_type": "code",
   "execution_count": 31,
   "metadata": {},
   "outputs": [],
   "source": [
    "predictions = model.predict(input_x)"
   ]
  },
  {
   "cell_type": "code",
   "execution_count": 32,
   "metadata": {},
   "outputs": [
    {
     "data": {
      "text/plain": [
       "[<matplotlib.lines.Line2D at 0x1ec16195448>]"
      ]
     },
     "execution_count": 32,
     "metadata": {},
     "output_type": "execute_result"
    },
    {
     "data": {
      "image/png": "[encoded data removed]",
      "text/plain": [
       "<Figure size 864x576 with 1 Axes>"
      ]
     },
     "metadata": {
      "needs_background": "light"
     },
     "output_type": "display_data"
    }
   ],
   "source": [
    "plt.figure(figsize=(12, 8))\n",
    "plt.plot(x, predictions, 'red')\n",
    "plt.plot(x, y, 'bo')"
   ]
  },
  {
   "cell_type": "markdown",
   "metadata": {},
   "source": [
    "## Deep neural networks"
   ]
  },
  {
   "cell_type": "markdown",
   "metadata": {},
   "source": [
    "### Jednoduché rozpoznávanie obrazu"
   ]
  },
  {
   "cell_type": "code",
   "execution_count": 33,
   "metadata": {},
   "outputs": [],
   "source": [
    "import tensorflow_datasets as tfds\n",
    "\n",
    "import seaborn\n",
    "import imageio"
   ]
  },
  {
   "cell_type": "code",
   "execution_count": 34,
   "metadata": {},
   "outputs": [],
   "source": [
    "(ds_train, ds_test), ds_info = tfds.load(\n",
    "    'mnist',\n",
    "    split=['train', 'test'],\n",
    "    shuffle_files=True,\n",
    "    as_supervised=True,\n",
    "    with_info=True,\n",
    ")"
   ]
  },
  {
   "cell_type": "code",
   "execution_count": 35,
   "metadata": {},
   "outputs": [],
   "source": [
    "def plot_random_picture(ds, shuffle = False):\n",
    "    if shuffle:\n",
    "        ds = ds.shuffle(42)\n",
    "    for i in ds.take(1):\n",
    "        pic = i[0].numpy().copy()\n",
    "        pic = pic.reshape(28, 28)\n",
    "        seaborn.heatmap(pic)\n",
    "        print('LABEL:', i[1].numpy())\n",
    "        return i[0].numpy()"
   ]
  },
  {
   "cell_type": "code",
   "execution_count": 37,
   "metadata": {},
   "outputs": [
    {
     "name": "stdout",
     "output_type": "stream",
     "text": [
      "LABEL: 3\n"
     ]
    },
    {
     "data": {
      "image/png": "[encoded data removed]",
      "text/plain": [
       "<Figure size 432x288 with 2 Axes>"
      ]
     },
     "metadata": {
      "needs_background": "light"
     },
     "output_type": "display_data"
    }
   ],
   "source": [
    "pic = plot_random_picture(ds_train, True)"
   ]
  },
  {
   "cell_type": "code",
   "execution_count": 38,
   "metadata": {},
   "outputs": [
    {
     "name": "stdout",
     "output_type": "stream",
     "text": [
      "image dimensions: (28, 28, 1)\n"
     ]
    },
    {
     "data": {
      "text/plain": [
       "array([[[  0],\n",
       "        [  0],\n",
       "        [  0],\n",
       "        [  0],\n",
       "        [  0],\n",
       "        [  0],\n",
       "        [  0],\n",
       "        [  0],\n",
       "        [  0],\n",
       "        [  0],\n",
       "        [  0],\n",
       "        [  0],\n",
       "        [  0],\n",
       "        [  0],\n",
       "        [  0],\n",
       "        [  0],\n",
       "        [  0],\n",
       "        [  0],\n",
       "        [  0],\n",
       "        [  0],\n",
       "        [  0],\n",
       "        [  0],\n",
       "        [  0],\n",
       "        [  0],\n",
       "        [  0],\n",
       "        [  0],\n",
       "        [  0],\n",
       "        [  0]],\n",
       "\n",
       "       [[  0],\n",
       "        [  0],\n",
       "        [  0],\n",
       "        [  0],\n",
       "        [  0],\n",
       "        [  0],\n",
       "        [  0],\n",
       "        [  0],\n",
       "        [  0],\n",
       "        [  0],\n",
       "        [  0],\n",
       "        [  0],\n",
       "        [  0],\n",
       "        [  0],\n",
       "        [  0],\n",
       "        [  0],\n",
       "        [  0],\n",
       "        [  0],\n",
       "        [  0],\n",
       "        [  0],\n",
       "        [  0],\n",
       "        [  0],\n",
       "        [  0],\n",
       "        [  0],\n",
       "        [  0],\n",
       "        [  0],\n",
       "        [  0],\n",
       "        [  0]],\n",
       "\n",
       "       [[  0],\n",
       "        [  0],\n",
       "        [  0],\n",
       "        [  0],\n",
       "        [  0],\n",
       "        [  0],\n",
       "        [  0],\n",
       "        [  0],\n",
       "        [  0],\n",
       "        [  0],\n",
       "        [  0],\n",
       "        [  0],\n",
       "        [  0],\n",
       "        [  0],\n",
       "        [  0],\n",
       "        [  0],\n",
       "        [  0],\n",
       "        [  0],\n",
       "        [  0],\n",
       "        [  0],\n",
       "        [  0],\n",
       "        [  0],\n",
       "        [  0],\n",
       "        [  0],\n",
       "        [  0],\n",
       "        [  0],\n",
       "        [  0],\n",
       "        [  0]],\n",
       "\n",
       "       [[  0],\n",
       "        [  0],\n",
       "        [  0],\n",
       "        [  0],\n",
       "        [  0],\n",
       "        [  0],\n",
       "        [  0],\n",
       "        [  0],\n",
       "        [  0],\n",
       "        [  0],\n",
       "        [  0],\n",
       "        [  0],\n",
       "        [  0],\n",
       "        [  0],\n",
       "        [  0],\n",
       "        [  0],\n",
       "        [  0],\n",
       "        [  0],\n",
       "        [  0],\n",
       "        [  0],\n",
       "        [  0],\n",
       "        [  0],\n",
       "        [  0],\n",
       "        [  0],\n",
       "        [  0],\n",
       "        [  0],\n",
       "        [  0],\n",
       "        [  0]],\n",
       "\n",
       "       [[  0],\n",
       "        [  0],\n",
       "        [  0],\n",
       "        [  0],\n",
       "        [  0],\n",
       "        [  0],\n",
       "        [  0],\n",
       "        [  0],\n",
       "        [  0],\n",
       "        [  0],\n",
       "        [  0],\n",
       "        [  0],\n",
       "        [ 96],\n",
       "        [118],\n",
       "        [132],\n",
       "        [254],\n",
       "        [254],\n",
       "        [124],\n",
       "        [118],\n",
       "        [ 25],\n",
       "        [  0],\n",
       "        [  0],\n",
       "        [  0],\n",
       "        [  0],\n",
       "        [  0],\n",
       "        [  0],\n",
       "        [  0],\n",
       "        [  0]],\n",
       "\n",
       "       [[  0],\n",
       "        [  0],\n",
       "        [  0],\n",
       "        [  0],\n",
       "        [  0],\n",
       "        [  0],\n",
       "        [  0],\n",
       "        [  0],\n",
       "        [  6],\n",
       "        [ 97],\n",
       "        [231],\n",
       "        [234],\n",
       "        [250],\n",
       "        [253],\n",
       "        [253],\n",
       "        [253],\n",
       "        [253],\n",
       "        [253],\n",
       "        [253],\n",
       "        [238],\n",
       "        [136],\n",
       "        [ 37],\n",
       "        [  0],\n",
       "        [  0],\n",
       "        [  0],\n",
       "        [  0],\n",
       "        [  0],\n",
       "        [  0]],\n",
       "\n",
       "       [[  0],\n",
       "        [  0],\n",
       "        [  0],\n",
       "        [  0],\n",
       "        [  0],\n",
       "        [  0],\n",
       "        [  0],\n",
       "        [  0],\n",
       "        [ 14],\n",
       "        [253],\n",
       "        [253],\n",
       "        [253],\n",
       "        [253],\n",
       "        [253],\n",
       "        [204],\n",
       "        [177],\n",
       "        [214],\n",
       "        [253],\n",
       "        [253],\n",
       "        [253],\n",
       "        [253],\n",
       "        [211],\n",
       "        [  0],\n",
       "        [  0],\n",
       "        [  0],\n",
       "        [  0],\n",
       "        [  0],\n",
       "        [  0]],\n",
       "\n",
       "       [[  0],\n",
       "        [  0],\n",
       "        [  0],\n",
       "        [  0],\n",
       "        [  0],\n",
       "        [  0],\n",
       "        [  0],\n",
       "        [  0],\n",
       "        [ 11],\n",
       "        [198],\n",
       "        [252],\n",
       "        [253],\n",
       "        [238],\n",
       "        [202],\n",
       "        [ 22],\n",
       "        [  0],\n",
       "        [ 30],\n",
       "        [ 61],\n",
       "        [198],\n",
       "        [253],\n",
       "        [253],\n",
       "        [237],\n",
       "        [ 26],\n",
       "        [  0],\n",
       "        [  0],\n",
       "        [  0],\n",
       "        [  0],\n",
       "        [  0]],\n",
       "\n",
       "       [[  0],\n",
       "        [  0],\n",
       "        [  0],\n",
       "        [  0],\n",
       "        [  0],\n",
       "        [  0],\n",
       "        [  0],\n",
       "        [  0],\n",
       "        [  0],\n",
       "        [  0],\n",
       "        [139],\n",
       "        [ 96],\n",
       "        [ 60],\n",
       "        [ 45],\n",
       "        [  0],\n",
       "        [  0],\n",
       "        [  0],\n",
       "        [  0],\n",
       "        [ 83],\n",
       "        [253],\n",
       "        [253],\n",
       "        [253],\n",
       "        [116],\n",
       "        [  0],\n",
       "        [  0],\n",
       "        [  0],\n",
       "        [  0],\n",
       "        [  0]],\n",
       "\n",
       "       [[  0],\n",
       "        [  0],\n",
       "        [  0],\n",
       "        [  0],\n",
       "        [  0],\n",
       "        [  0],\n",
       "        [  0],\n",
       "        [  0],\n",
       "        [  0],\n",
       "        [  0],\n",
       "        [  0],\n",
       "        [  0],\n",
       "        [  0],\n",
       "        [  0],\n",
       "        [  0],\n",
       "        [  0],\n",
       "        [  0],\n",
       "        [  0],\n",
       "        [ 91],\n",
       "        [253],\n",
       "        [253],\n",
       "        [252],\n",
       "        [110],\n",
       "        [  0],\n",
       "        [  0],\n",
       "        [  0],\n",
       "        [  0],\n",
       "        [  0]],\n",
       "\n",
       "       [[  0],\n",
       "        [  0],\n",
       "        [  0],\n",
       "        [  0],\n",
       "        [  0],\n",
       "        [  0],\n",
       "        [  0],\n",
       "        [  0],\n",
       "        [  0],\n",
       "        [  0],\n",
       "        [  0],\n",
       "        [  0],\n",
       "        [  0],\n",
       "        [  0],\n",
       "        [  0],\n",
       "        [  0],\n",
       "        [  0],\n",
       "        [125],\n",
       "        [237],\n",
       "        [253],\n",
       "        [253],\n",
       "        [232],\n",
       "        [  0],\n",
       "        [  0],\n",
       "        [  0],\n",
       "        [  0],\n",
       "        [  0],\n",
       "        [  0]],\n",
       "\n",
       "       [[  0],\n",
       "        [  0],\n",
       "        [  0],\n",
       "        [  0],\n",
       "        [  0],\n",
       "        [  0],\n",
       "        [  0],\n",
       "        [  0],\n",
       "        [  0],\n",
       "        [  0],\n",
       "        [  0],\n",
       "        [  0],\n",
       "        [  0],\n",
       "        [  0],\n",
       "        [  0],\n",
       "        [ 63],\n",
       "        [177],\n",
       "        [253],\n",
       "        [253],\n",
       "        [253],\n",
       "        [253],\n",
       "        [173],\n",
       "        [  0],\n",
       "        [  0],\n",
       "        [  0],\n",
       "        [  0],\n",
       "        [  0],\n",
       "        [  0]],\n",
       "\n",
       "       [[  0],\n",
       "        [  0],\n",
       "        [  0],\n",
       "        [  0],\n",
       "        [  0],\n",
       "        [  0],\n",
       "        [  0],\n",
       "        [  0],\n",
       "        [  0],\n",
       "        [  0],\n",
       "        [  0],\n",
       "        [  0],\n",
       "        [  0],\n",
       "        [ 92],\n",
       "        [227],\n",
       "        [242],\n",
       "        [253],\n",
       "        [253],\n",
       "        [253],\n",
       "        [253],\n",
       "        [ 93],\n",
       "        [ 10],\n",
       "        [  0],\n",
       "        [  0],\n",
       "        [  0],\n",
       "        [  0],\n",
       "        [  0],\n",
       "        [  0]],\n",
       "\n",
       "       [[  0],\n",
       "        [  0],\n",
       "        [  0],\n",
       "        [  0],\n",
       "        [  0],\n",
       "        [  0],\n",
       "        [  0],\n",
       "        [  0],\n",
       "        [  0],\n",
       "        [  0],\n",
       "        [  0],\n",
       "        [  0],\n",
       "        [168],\n",
       "        [241],\n",
       "        [253],\n",
       "        [253],\n",
       "        [253],\n",
       "        [253],\n",
       "        [231],\n",
       "        [ 77],\n",
       "        [ 14],\n",
       "        [  0],\n",
       "        [  0],\n",
       "        [  0],\n",
       "        [  0],\n",
       "        [  0],\n",
       "        [  0],\n",
       "        [  0]],\n",
       "\n",
       "       [[  0],\n",
       "        [  0],\n",
       "        [  0],\n",
       "        [  0],\n",
       "        [  0],\n",
       "        [  0],\n",
       "        [  0],\n",
       "        [  0],\n",
       "        [  0],\n",
       "        [  0],\n",
       "        [  0],\n",
       "        [  0],\n",
       "        [180],\n",
       "        [253],\n",
       "        [253],\n",
       "        [253],\n",
       "        [253],\n",
       "        [253],\n",
       "        [170],\n",
       "        [  0],\n",
       "        [  0],\n",
       "        [  0],\n",
       "        [  0],\n",
       "        [  0],\n",
       "        [  0],\n",
       "        [  0],\n",
       "        [  0],\n",
       "        [  0]],\n",
       "\n",
       "       [[  0],\n",
       "        [  0],\n",
       "        [  0],\n",
       "        [  0],\n",
       "        [  0],\n",
       "        [  0],\n",
       "        [  0],\n",
       "        [  0],\n",
       "        [  0],\n",
       "        [  0],\n",
       "        [  0],\n",
       "        [  0],\n",
       "        [ 24],\n",
       "        [115],\n",
       "        [226],\n",
       "        [241],\n",
       "        [253],\n",
       "        [253],\n",
       "        [170],\n",
       "        [  0],\n",
       "        [  0],\n",
       "        [  0],\n",
       "        [  0],\n",
       "        [  0],\n",
       "        [  0],\n",
       "        [  0],\n",
       "        [  0],\n",
       "        [  0]],\n",
       "\n",
       "       [[  0],\n",
       "        [  0],\n",
       "        [  0],\n",
       "        [  0],\n",
       "        [  0],\n",
       "        [  0],\n",
       "        [  0],\n",
       "        [  0],\n",
       "        [  0],\n",
       "        [  0],\n",
       "        [  0],\n",
       "        [  0],\n",
       "        [  0],\n",
       "        [  0],\n",
       "        [  0],\n",
       "        [144],\n",
       "        [253],\n",
       "        [253],\n",
       "        [218],\n",
       "        [ 31],\n",
       "        [  0],\n",
       "        [  0],\n",
       "        [  0],\n",
       "        [  0],\n",
       "        [  0],\n",
       "        [  0],\n",
       "        [  0],\n",
       "        [  0]],\n",
       "\n",
       "       [[  0],\n",
       "        [  0],\n",
       "        [  0],\n",
       "        [ 58],\n",
       "        [ 10],\n",
       "        [  0],\n",
       "        [  0],\n",
       "        [  0],\n",
       "        [  0],\n",
       "        [  0],\n",
       "        [  0],\n",
       "        [  0],\n",
       "        [  0],\n",
       "        [  0],\n",
       "        [  0],\n",
       "        [144],\n",
       "        [253],\n",
       "        [253],\n",
       "        [253],\n",
       "        [ 54],\n",
       "        [  0],\n",
       "        [  0],\n",
       "        [  0],\n",
       "        [  0],\n",
       "        [  0],\n",
       "        [  0],\n",
       "        [  0],\n",
       "        [  0]],\n",
       "\n",
       "       [[  0],\n",
       "        [  0],\n",
       "        [  0],\n",
       "        [248],\n",
       "        [189],\n",
       "        [ 73],\n",
       "        [  0],\n",
       "        [  0],\n",
       "        [  0],\n",
       "        [  0],\n",
       "        [  0],\n",
       "        [  0],\n",
       "        [  0],\n",
       "        [  0],\n",
       "        [  0],\n",
       "        [ 14],\n",
       "        [253],\n",
       "        [253],\n",
       "        [253],\n",
       "        [ 54],\n",
       "        [  0],\n",
       "        [  0],\n",
       "        [  0],\n",
       "        [  0],\n",
       "        [  0],\n",
       "        [  0],\n",
       "        [  0],\n",
       "        [  0]],\n",
       "\n",
       "       [[  0],\n",
       "        [  0],\n",
       "        [  0],\n",
       "        [210],\n",
       "        [253],\n",
       "        [243],\n",
       "        [116],\n",
       "        [ 27],\n",
       "        [  0],\n",
       "        [  0],\n",
       "        [  0],\n",
       "        [  0],\n",
       "        [  0],\n",
       "        [  0],\n",
       "        [  0],\n",
       "        [127],\n",
       "        [253],\n",
       "        [253],\n",
       "        [253],\n",
       "        [ 54],\n",
       "        [  0],\n",
       "        [  0],\n",
       "        [  0],\n",
       "        [  0],\n",
       "        [  0],\n",
       "        [  0],\n",
       "        [  0],\n",
       "        [  0]],\n",
       "\n",
       "       [[  0],\n",
       "        [  0],\n",
       "        [  0],\n",
       "        [ 89],\n",
       "        [248],\n",
       "        [253],\n",
       "        [253],\n",
       "        [217],\n",
       "        [118],\n",
       "        [ 63],\n",
       "        [ 63],\n",
       "        [ 63],\n",
       "        [ 63],\n",
       "        [ 63],\n",
       "        [ 78],\n",
       "        [230],\n",
       "        [253],\n",
       "        [253],\n",
       "        [188],\n",
       "        [ 12],\n",
       "        [  0],\n",
       "        [  0],\n",
       "        [  0],\n",
       "        [  0],\n",
       "        [  0],\n",
       "        [  0],\n",
       "        [  0],\n",
       "        [  0]],\n",
       "\n",
       "       [[  0],\n",
       "        [  0],\n",
       "        [  0],\n",
       "        [  0],\n",
       "        [122],\n",
       "        [224],\n",
       "        [253],\n",
       "        [253],\n",
       "        [253],\n",
       "        [253],\n",
       "        [253],\n",
       "        [253],\n",
       "        [253],\n",
       "        [253],\n",
       "        [253],\n",
       "        [253],\n",
       "        [253],\n",
       "        [253],\n",
       "        [148],\n",
       "        [  0],\n",
       "        [  0],\n",
       "        [  0],\n",
       "        [  0],\n",
       "        [  0],\n",
       "        [  0],\n",
       "        [  0],\n",
       "        [  0],\n",
       "        [  0]],\n",
       "\n",
       "       [[  0],\n",
       "        [  0],\n",
       "        [  0],\n",
       "        [  0],\n",
       "        [  0],\n",
       "        [ 29],\n",
       "        [ 96],\n",
       "        [188],\n",
       "        [245],\n",
       "        [253],\n",
       "        [253],\n",
       "        [253],\n",
       "        [253],\n",
       "        [253],\n",
       "        [253],\n",
       "        [253],\n",
       "        [232],\n",
       "        [176],\n",
       "        [ 13],\n",
       "        [  0],\n",
       "        [  0],\n",
       "        [  0],\n",
       "        [  0],\n",
       "        [  0],\n",
       "        [  0],\n",
       "        [  0],\n",
       "        [  0],\n",
       "        [  0]],\n",
       "\n",
       "       [[  0],\n",
       "        [  0],\n",
       "        [  0],\n",
       "        [  0],\n",
       "        [  0],\n",
       "        [  0],\n",
       "        [  0],\n",
       "        [  0],\n",
       "        [ 70],\n",
       "        [116],\n",
       "        [116],\n",
       "        [239],\n",
       "        [253],\n",
       "        [227],\n",
       "        [116],\n",
       "        [113],\n",
       "        [  0],\n",
       "        [  0],\n",
       "        [  0],\n",
       "        [  0],\n",
       "        [  0],\n",
       "        [  0],\n",
       "        [  0],\n",
       "        [  0],\n",
       "        [  0],\n",
       "        [  0],\n",
       "        [  0],\n",
       "        [  0]],\n",
       "\n",
       "       [[  0],\n",
       "        [  0],\n",
       "        [  0],\n",
       "        [  0],\n",
       "        [  0],\n",
       "        [  0],\n",
       "        [  0],\n",
       "        [  0],\n",
       "        [  0],\n",
       "        [  0],\n",
       "        [  0],\n",
       "        [  0],\n",
       "        [  0],\n",
       "        [  0],\n",
       "        [  0],\n",
       "        [  0],\n",
       "        [  0],\n",
       "        [  0],\n",
       "        [  0],\n",
       "        [  0],\n",
       "        [  0],\n",
       "        [  0],\n",
       "        [  0],\n",
       "        [  0],\n",
       "        [  0],\n",
       "        [  0],\n",
       "        [  0],\n",
       "        [  0]],\n",
       "\n",
       "       [[  0],\n",
       "        [  0],\n",
       "        [  0],\n",
       "        [  0],\n",
       "        [  0],\n",
       "        [  0],\n",
       "        [  0],\n",
       "        [  0],\n",
       "        [  0],\n",
       "        [  0],\n",
       "        [  0],\n",
       "        [  0],\n",
       "        [  0],\n",
       "        [  0],\n",
       "        [  0],\n",
       "        [  0],\n",
       "        [  0],\n",
       "        [  0],\n",
       "        [  0],\n",
       "        [  0],\n",
       "        [  0],\n",
       "        [  0],\n",
       "        [  0],\n",
       "        [  0],\n",
       "        [  0],\n",
       "        [  0],\n",
       "        [  0],\n",
       "        [  0]],\n",
       "\n",
       "       [[  0],\n",
       "        [  0],\n",
       "        [  0],\n",
       "        [  0],\n",
       "        [  0],\n",
       "        [  0],\n",
       "        [  0],\n",
       "        [  0],\n",
       "        [  0],\n",
       "        [  0],\n",
       "        [  0],\n",
       "        [  0],\n",
       "        [  0],\n",
       "        [  0],\n",
       "        [  0],\n",
       "        [  0],\n",
       "        [  0],\n",
       "        [  0],\n",
       "        [  0],\n",
       "        [  0],\n",
       "        [  0],\n",
       "        [  0],\n",
       "        [  0],\n",
       "        [  0],\n",
       "        [  0],\n",
       "        [  0],\n",
       "        [  0],\n",
       "        [  0]],\n",
       "\n",
       "       [[  0],\n",
       "        [  0],\n",
       "        [  0],\n",
       "        [  0],\n",
       "        [  0],\n",
       "        [  0],\n",
       "        [  0],\n",
       "        [  0],\n",
       "        [  0],\n",
       "        [  0],\n",
       "        [  0],\n",
       "        [  0],\n",
       "        [  0],\n",
       "        [  0],\n",
       "        [  0],\n",
       "        [  0],\n",
       "        [  0],\n",
       "        [  0],\n",
       "        [  0],\n",
       "        [  0],\n",
       "        [  0],\n",
       "        [  0],\n",
       "        [  0],\n",
       "        [  0],\n",
       "        [  0],\n",
       "        [  0],\n",
       "        [  0],\n",
       "        [  0]]], dtype=uint8)"
      ]
     },
     "execution_count": 38,
     "metadata": {},
     "output_type": "execute_result"
    }
   ],
   "source": [
    "print('image dimensions:', pic.shape)\n",
    "pic"
   ]
  },
  {
   "cell_type": "code",
   "execution_count": 39,
   "metadata": {},
   "outputs": [],
   "source": [
    "def normalize_img(image, label):\n",
    "  \"\"\"Normalizes images: `uint8` -> `float32`.\"\"\"\n",
    "  return tf.cast(image, tf.float32) / 255., label"
   ]
  },
  {
   "cell_type": "code",
   "execution_count": 40,
   "metadata": {},
   "outputs": [],
   "source": [
    "ds_train = ds_train.map(normalize_img)\n",
    "ds_train = ds_train.batch(16)"
   ]
  },
  {
   "cell_type": "code",
   "execution_count": 41,
   "metadata": {},
   "outputs": [],
   "source": [
    "ds_test = ds_test.map(normalize_img)\n",
    "ds_test = ds_test.batch(16)"
   ]
  },
  {
   "cell_type": "code",
   "execution_count": 42,
   "metadata": {},
   "outputs": [],
   "source": [
    "model = Sequential([\n",
    "    layers.Flatten(input_shape=(28, 28)),\n",
    "    layers.Dense(128, activation='relu'),\n",
    "    layers.Dense(10, activation='softmax')\n",
    "])"
   ]
  },
  {
   "cell_type": "code",
   "execution_count": 44,
   "metadata": {},
   "outputs": [
    {
     "name": "stdout",
     "output_type": "stream",
     "text": [
      "Model: \"sequential_3\"\n",
      "_________________________________________________________________\n",
      "Layer (type)                 Output Shape              Param #   \n",
      "=================================================================\n",
      "flatten (Flatten)            (None, 784)               0         \n",
      "_________________________________________________________________\n",
      "dense_3 (Dense)              (None, 128)               100480    \n",
      "_________________________________________________________________\n",
      "dense_4 (Dense)              (None, 10)                1290      \n",
      "=================================================================\n",
      "Total params: 101,770\n",
      "Trainable params: 101,770\n",
      "Non-trainable params: 0\n",
      "_________________________________________________________________\n"
     ]
    }
   ],
   "source": [
    "model.summary()"
   ]
  },
  {
   "cell_type": "code",
   "execution_count": 45,
   "metadata": {},
   "outputs": [],
   "source": [
    "model.compile(\n",
    "    optimizer=tf.keras.optimizers.Adam(0.001),\n",
    "    loss=tf.keras.losses.SparseCategoricalCrossentropy(from_logits=False),\n",
    "    metrics=[tf.keras.metrics.SparseCategoricalAccuracy()],\n",
    ")"
   ]
  },
  {
   "cell_type": "code",
   "execution_count": 46,
   "metadata": {},
   "outputs": [
    {
     "name": "stdout",
     "output_type": "stream",
     "text": [
      "Epoch 1/6\n",
      "3750/3750 [==============================] - 13s 4ms/step - loss: 0.2283 - sparse_categorical_accuracy: 0.9335 - val_loss: 0.1305 - val_sparse_categorical_accuracy: 0.9598\n",
      "Epoch 2/6\n",
      "3750/3750 [==============================] - 9s 2ms/step - loss: 0.0996 - sparse_categorical_accuracy: 0.9703 - val_loss: 0.1125 - val_sparse_categorical_accuracy: 0.9642\n",
      "Epoch 3/6\n",
      "3750/3750 [==============================] - 9s 2ms/step - loss: 0.0664 - sparse_categorical_accuracy: 0.9801 - val_loss: 0.0939 - val_sparse_categorical_accuracy: 0.9706\n",
      "Epoch 4/6\n",
      "3750/3750 [==============================] - 10s 3ms/step - loss: 0.0477 - sparse_categorical_accuracy: 0.9859 - val_loss: 0.0868 - val_sparse_categorical_accuracy: 0.9740\n",
      "Epoch 5/6\n",
      "3750/3750 [==============================] - 13s 3ms/step - loss: 0.0355 - sparse_categorical_accuracy: 0.9896 - val_loss: 0.0903 - val_sparse_categorical_accuracy: 0.9738\n",
      "Epoch 6/6\n",
      "3750/3750 [==============================] - 12s 3ms/step - loss: 0.0271 - sparse_categorical_accuracy: 0.9918 - val_loss: 0.0956 - val_sparse_categorical_accuracy: 0.9733\n"
     ]
    },
    {
     "data": {
      "text/plain": [
       "<tensorflow.python.keras.callbacks.History at 0x1ec16071b48>"
      ]
     },
     "execution_count": 46,
     "metadata": {},
     "output_type": "execute_result"
    }
   ],
   "source": [
    "model.fit(\n",
    "    ds_train,\n",
    "    epochs=6,\n",
    "    validation_data=ds_test,\n",
    ")"
   ]
  },
  {
   "cell_type": "code",
   "execution_count": 47,
   "metadata": {},
   "outputs": [
    {
     "name": "stdout",
     "output_type": "stream",
     "text": [
      "625/625 [==============================] - 1s 2ms/step - loss: 0.0956 - sparse_categorical_accuracy: 0.9733\n"
     ]
    },
    {
     "data": {
      "text/plain": [
       "[0.09562628716230392, 0.9732999801635742]"
      ]
     },
     "execution_count": 47,
     "metadata": {},
     "output_type": "execute_result"
    }
   ],
   "source": [
    "model.evaluate(ds_test)"
   ]
  },
  {
   "cell_type": "code",
   "execution_count": 48,
   "metadata": {},
   "outputs": [],
   "source": [
    "def predict_for_png(model):\n",
    "    \n",
    "    im = imageio.imread('pic.png')\n",
    "    im = np.mean(im, -1) / 255\n",
    "    im = 1 - im\n",
    "    im = im.reshape(28, 28, 1)\n",
    "    \n",
    "    ds = tf.data.Dataset.from_tensor_slices([im])\n",
    "    ds = ds.batch(1)\n",
    "    \n",
    "    predictions = model.predict(ds)\n",
    "    predictions = predictions[0].tolist()\n",
    "    \n",
    "    for i in range(10):\n",
    "        print(i, ' : ', np.round(predictions[i], 4))\n",
    "    \n",
    "    return predictions"
   ]
  },
  {
   "cell_type": "code",
   "execution_count": 50,
   "metadata": {
    "scrolled": true
   },
   "outputs": [
    {
     "name": "stdout",
     "output_type": "stream",
     "text": [
      "0  :  0.0\n",
      "1  :  0.9995\n",
      "2  :  0.0\n",
      "3  :  0.0001\n",
      "4  :  0.0001\n",
      "5  :  0.0\n",
      "6  :  0.0\n",
      "7  :  0.0\n",
      "8  :  0.0002\n",
      "9  :  0.0\n"
     ]
    }
   ],
   "source": [
    "predictions = predict_for_png(model)"
   ]
  },
  {
   "cell_type": "code",
   "execution_count": 54,
   "metadata": {},
   "outputs": [],
   "source": [
    "conv_model = Sequential([\n",
    "    layers.Conv2D(1, 3, input_shape=(28, 28, 1), activation='relu'),\n",
    "    layers.AveragePooling2D(),\n",
    "    layers.Flatten(),\n",
    "    layers.Dense(32, activation='relu'),\n",
    "    layers.Dense(10, activation='softmax')\n",
    "])"
   ]
  },
  {
   "cell_type": "code",
   "execution_count": 55,
   "metadata": {},
   "outputs": [
    {
     "name": "stdout",
     "output_type": "stream",
     "text": [
      "Model: \"sequential_6\"\n",
      "_________________________________________________________________\n",
      "Layer (type)                 Output Shape              Param #   \n",
      "=================================================================\n",
      "conv2d_2 (Conv2D)            (None, 26, 26, 1)         10        \n",
      "_________________________________________________________________\n",
      "average_pooling2d_2 (Average (None, 13, 13, 1)         0         \n",
      "_________________________________________________________________\n",
      "flatten_3 (Flatten)          (None, 169)               0         \n",
      "_________________________________________________________________\n",
      "dense_9 (Dense)              (None, 32)                5440      \n",
      "_________________________________________________________________\n",
      "dense_10 (Dense)             (None, 10)                330       \n",
      "=================================================================\n",
      "Total params: 5,780\n",
      "Trainable params: 5,780\n",
      "Non-trainable params: 0\n",
      "_________________________________________________________________\n"
     ]
    }
   ],
   "source": [
    "conv_model.summary()"
   ]
  },
  {
   "cell_type": "code",
   "execution_count": 56,
   "metadata": {},
   "outputs": [],
   "source": [
    "conv_model.compile(\n",
    "    optimizer=tf.keras.optimizers.Adam(0.001),\n",
    "    loss=tf.keras.losses.SparseCategoricalCrossentropy(from_logits=False),\n",
    "    metrics=[tf.keras.metrics.SparseCategoricalAccuracy()],\n",
    ")"
   ]
  },
  {
   "cell_type": "code",
   "execution_count": 57,
   "metadata": {},
   "outputs": [
    {
     "name": "stdout",
     "output_type": "stream",
     "text": [
      "Epoch 1/6\n",
      "3750/3750 [==============================] - 24s 6ms/step - loss: 0.3618 - sparse_categorical_accuracy: 0.8943\n",
      "Epoch 2/6\n",
      "3750/3750 [==============================] - 25s 7ms/step - loss: 0.1846 - sparse_categorical_accuracy: 0.9467\n",
      "Epoch 3/6\n",
      "3750/3750 [==============================] - 23s 6ms/step - loss: 0.1475 - sparse_categorical_accuracy: 0.9572\n",
      "Epoch 4/6\n",
      "3750/3750 [==============================] - 20s 5ms/step - loss: 0.1282 - sparse_categorical_accuracy: 0.9628\n",
      "Epoch 5/6\n",
      "3750/3750 [==============================] - 20s 5ms/step - loss: 0.1148 - sparse_categorical_accuracy: 0.9659\n",
      "Epoch 6/6\n",
      "3750/3750 [==============================] - 23s 6ms/step - loss: 0.1053 - sparse_categorical_accuracy: 0.9689\n"
     ]
    },
    {
     "data": {
      "text/plain": [
       "<tensorflow.python.keras.callbacks.History at 0x1ec1a0f1b88>"
      ]
     },
     "execution_count": 57,
     "metadata": {},
     "output_type": "execute_result"
    }
   ],
   "source": [
    "conv_model.fit(ds_train, epochs=6)"
   ]
  },
  {
   "cell_type": "code",
   "execution_count": 58,
   "metadata": {},
   "outputs": [
    {
     "name": "stdout",
     "output_type": "stream",
     "text": [
      "625/625 [==============================] - 3s 4ms/step - loss: 0.1222 - sparse_categorical_accuracy: 0.9656\n"
     ]
    },
    {
     "data": {
      "text/plain": [
       "[0.1222415640950203, 0.9656000137329102]"
      ]
     },
     "execution_count": 58,
     "metadata": {},
     "output_type": "execute_result"
    }
   ],
   "source": [
    "conv_model.evaluate(ds_test)"
   ]
  },
  {
   "cell_type": "code",
   "execution_count": 59,
   "metadata": {},
   "outputs": [
    {
     "name": "stdout",
     "output_type": "stream",
     "text": [
      "0  :  0.0003\n",
      "1  :  0.9111\n",
      "2  :  0.0402\n",
      "3  :  0.0075\n",
      "4  :  0.0008\n",
      "5  :  0.0053\n",
      "6  :  0.0046\n",
      "7  :  0.0042\n",
      "8  :  0.0256\n",
      "9  :  0.0004\n"
     ]
    }
   ],
   "source": [
    "conv_preds = predict_for_png(conv_model)"
   ]
  },
  {
   "cell_type": "code",
   "execution_count": null,
   "metadata": {},
   "outputs": [],
   "source": []
  }
 ],
 "metadata": {
  "kernelspec": {
   "display_name": "Python 3.7.7 64-bit (virtualenv)",
   "language": "python",
   "name": "python37764bitvirtualenva07ec4f171274ff6acd53c78c78b82d3"
  },
  "language_info": {
   "codemirror_mode": {
    "name": "ipython",
    "version": 3
   },
   "file_extension": ".py",
   "mimetype": "text/x-python",
   "name": "python",
   "nbconvert_exporter": "python",
   "pygments_lexer": "ipython3",
   "version": "3.7.7"
  }
 },
 "nbformat": 4,
 "nbformat_minor": 4
}
